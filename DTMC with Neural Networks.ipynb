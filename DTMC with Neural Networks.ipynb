{
 "cells": [
  {
   "cell_type": "code",
   "execution_count": 2,
   "metadata": {},
   "outputs": [
    {
     "name": "stderr",
     "output_type": "stream",
     "text": [
      "Using TensorFlow backend.\n"
     ]
    }
   ],
   "source": [
    "import numpy as np\n",
    "from math import sqrt as sqrt\n",
    "from statistics import mean as mean\n",
    "import matplotlib.pyplot as plt\n",
    "\n",
    "from sklearn.metrics import mean_squared_error\n",
    "from keras.models import Sequential\n",
    "from keras.layers import Dense"
   ]
  },
  {
   "cell_type": "markdown",
   "metadata": {},
   "source": [
    "# Problem Statement"
   ]
  },
  {
   "cell_type": "markdown",
   "metadata": {},
   "source": [
    "Simulate a full path of a DTMC for an appropriate inventory model, and use the Monte Carlo method to estimate its corresponding discounted value function. Compare the resulting values with a neural network, and on the mean squared errors."
   ]
  },
  {
   "cell_type": "markdown",
   "metadata": {},
   "source": [
    "Inventory Model: Consider a perishable product with a maximum lifetime of L periods. Thus, at the end of period t, there may be leftover inventory of this product with a remaining lifetime j such that $ 1 <= j <= L - 1 $. Any leftover items with 0 remaining life is considered \"expired\" and will be disposed. Let $X_tj$ be the amount of inventory with remaining lifetime less or equal to j after the \"expired items\" are disposed, then the system state by the end of the period $t$ is $X_t = (X_{t1}, X_{t2},...,X_{t,L-1})^4$. $X_{tj}-X_{t,j-1}$ is the number of items with remaining lifetime exactly $j \\in {2,3,...,L-1}$.\n",
    "By the end of period $t-1$, after disposing expired items, an order for $Q-X_{t-1,L-1}$ units of new items is placed. At the beginning of period $t$, $Q-X_{t-1,L-1}$ units of new items arrive, bringing the total inventory level to Q. The variable cost $c_v$ per unit is paid when new inventory arrives. A random demand $D_t$ then occurs and is met immediately as much as possible with inventory from oldest to newest. Demand across different periods is assumed to be i.i.d. and follows Poisson distribution with mean $\\lambda$. Unmet demand is lost. At the end of period $t$, expired invenory is disposed at cost $c_d$ per unit, and leftover inventory incurs a holding cost $h$ per unit. \n",
    "In our model, the selling price $c_p = 1$, variable cost $c_v = 0.4$, disposal cost $c_d=0.1$, holding cost $h=0.1$, and the demand rate is $\\lambda=17$. "
   ]
  },
  {
   "cell_type": "markdown",
   "metadata": {},
   "source": [
    "## Sampling a full DTMC path for 20 states and 20*10^3 time intervals"
   ]
  },
  {
   "cell_type": "code",
   "execution_count": 3,
   "metadata": {},
   "outputs": [
    {
     "name": "stdout",
     "output_type": "stream",
     "text": [
      "Subset of states where K = 20\n",
      "[[ 0  0 15 31 48 69]\n",
      " [ 0  0 15 31 58 68]\n",
      " [11 24 37 50 63 75]\n",
      " [ 0 12 31 39 54 69]\n",
      " [ 0  0 12 41 57 75]\n",
      " [ 0  8 28 48 63 75]\n",
      " [ 0  0 20 38 63 76]\n",
      " [ 0  0 14 32 52 76]\n",
      " [ 0  0 14 32 48 69]\n",
      " [ 5 20 37 53 68 78]\n",
      " [ 0 12 27 40 58 76]\n",
      " [ 0 16 34 54 71 78]\n",
      " [ 0  0 12 29 41 63]\n",
      " [ 0  0 20 43 61 76]\n",
      " [11 24 36 51 60 73]\n",
      " [ 0  0 14 33 50 67]\n",
      " [ 0 11 28 45 55 73]\n",
      " [ 0  6 26 40 58 73]\n",
      " [ 0  0 10 30 49 74]\n",
      " [ 0  0 16 34 53 75]]\n"
     ]
    }
   ],
   "source": [
    "# Function state_subset\n",
    "\n",
    "# Required parameters\n",
    "# K: number of states selected in subset\n",
    "# T: total amount of time intervals\n",
    "# x0n: initial state value of the amount of items with remaining lifetime less than or equal to n\n",
    "\n",
    "# Returns\n",
    "# subset: subset of K values, taken from larger state set of T time intervals\n",
    "\n",
    "def state_subset(K, T, x01, x02, x03, x04, x05, x06):\n",
    "    Q = 90\n",
    "    L = 7\n",
    "    x1 = x01\n",
    "    x2 = x02\n",
    "    x3 = x03\n",
    "    x4 = x04\n",
    "    x5 = x05\n",
    "    x6 = x06\n",
    "\n",
    "    states = np.empty([0,6], dtype = int) \n",
    "\n",
    "    for t in range(T):\n",
    "        D = np.random.poisson(17)\n",
    "        # simulating next state using DTMC property\n",
    "        x1 = max(x2 - x1 - max(D - x1,0),0) \n",
    "        x2 = max(x3 - x2 - max(D - x2,0),0) + x1\n",
    "        x3 = max(x4 - x3 - max(D - x3,0),0) + x2\n",
    "        x4 = max(x5 - x4 - max(D - x4,0),0) + x3 \n",
    "        x5 = max(x6 - x5 - max(D - x5,0),0) + x4\n",
    "        x6 = max((Q - x6) - max(D - x6,0),0) + x5\n",
    "        state = np.array([[x1, x2, x3, x4, x5, x6]])\n",
    "        states = np.row_stack((states, state))\n",
    "    \n",
    "    subset = np.empty([0,6], dtype = int)\n",
    "    for k in range(K):\n",
    "        index = (k+1)*(10**3)-1\n",
    "        state = states[index]\n",
    "        subset = np.row_stack((subset, state))\n",
    "    return subset\n",
    "\n",
    "# generating full path of DTMC where K = 20\n",
    "K = 20 \n",
    "T = (10**3) * K \n",
    "subset20 = state_subset(K, T, 0,0,0,0,0,0)\n",
    "print('Subset of states where K = 20')\n",
    "print(subset20)"
   ]
  },
  {
   "cell_type": "markdown",
   "metadata": {},
   "source": [
    "## Sampling a DTMC with 200 states and 200*10^3 time intervals"
   ]
  },
  {
   "cell_type": "code",
   "execution_count": 4,
   "metadata": {},
   "outputs": [
    {
     "name": "stdout",
     "output_type": "stream",
     "text": [
      "Subset of states where K = 200\n",
      "[[ 0  7 19 39 55 77]\n",
      " [ 0  0 11 34 52 69]\n",
      " [ 0 11 28 42 63 80]\n",
      " ...\n",
      " [ 0  5 20 38 55 74]\n",
      " [ 0 11 24 39 53 68]\n",
      " [ 0  8 20 42 53 73]]\n"
     ]
    }
   ],
   "source": [
    "K = 200\n",
    "T = (10**3) * K \n",
    "\n",
    "# generating full path of DTMC where K = 200\n",
    "subset200 = state_subset(K, T,0,0,0,0,0,0)\n",
    "\n",
    "print('Subset of states where K = 200')\n",
    "print(subset200)"
   ]
  },
  {
   "cell_type": "markdown",
   "metadata": {},
   "source": [
    "## Calculate the estimated expected profit and its confidence interval for 20 states, over 100 episodes"
   ]
  },
  {
   "cell_type": "code",
   "execution_count": 5,
   "metadata": {},
   "outputs": [
    {
     "name": "stdout",
     "output_type": "stream",
     "text": [
      "Initial state k = 1 [ 0  0 15 31 48 69]\n",
      "Estimated value: 13.154527256970121\n",
      "Confidence interval: [ 12.05684391356044 , 14.252210600379803 ] \n",
      "\n",
      "Initial state k = 2 [ 0  0 15 31 58 68]\n",
      "Estimated value: 11.946919721352455\n",
      "Confidence interval: [ 10.897777584782146 , 12.996061857922763 ] \n",
      "\n",
      "Initial state k = 3 [11 24 37 50 63 75]\n",
      "Estimated value: 14.512107045726175\n",
      "Confidence interval: [ 13.429798949906186 , 15.594415141546165 ] \n",
      "\n",
      "Initial state k = 4 [ 0 12 31 39 54 69]\n",
      "Estimated value: 12.73351818904854\n",
      "Confidence interval: [ 11.747893368214001 , 13.71914300988308 ] \n",
      "\n",
      "Initial state k = 5 [ 0  0 12 41 57 75]\n",
      "Estimated value: 14.528710739917605\n",
      "Confidence interval: [ 13.624966411151934 , 15.432455068683275 ] \n",
      "\n",
      "Initial state k = 6 [ 0  8 28 48 63 75]\n",
      "Estimated value: 15.276378933901587\n",
      "Confidence interval: [ 14.16987039932482 , 16.382887468478355 ] \n",
      "\n",
      "Initial state k = 7 [ 0  0 20 38 63 76]\n",
      "Estimated value: 15.579394251642283\n",
      "Confidence interval: [ 14.485024838826309 , 16.673763664458257 ] \n",
      "\n",
      "Initial state k = 8 [ 0  0 14 32 52 76]\n",
      "Estimated value: 15.180242482139409\n",
      "Confidence interval: [ 14.024328321450781 , 16.336156642828037 ] \n",
      "\n",
      "Initial state k = 9 [ 0  0 14 32 48 69]\n",
      "Estimated value: 12.648113165235673\n",
      "Confidence interval: [ 11.608629322105527 , 13.687597008365818 ] \n",
      "\n",
      "Initial state k = 10 [ 5 20 37 53 68 78]\n",
      "Estimated value: 16.938579761400042\n",
      "Confidence interval: [ 15.822637114662129 , 18.054522408137956 ] \n",
      "\n",
      "Initial state k = 11 [ 0 12 27 40 58 76]\n",
      "Estimated value: 15.97277027653895\n",
      "Confidence interval: [ 14.85831385317884 , 17.087226699899063 ] \n",
      "\n",
      "Initial state k = 12 [ 0 16 34 54 71 78]\n",
      "Estimated value: 16.12397839802556\n",
      "Confidence interval: [ 15.06160591431159 , 17.18635088173953 ] \n",
      "\n",
      "Initial state k = 13 [ 0  0 12 29 41 63]\n",
      "Estimated value: 10.218767791312663\n",
      "Confidence interval: [ 9.054769772311444 , 11.382765810313883 ] \n",
      "\n",
      "Initial state k = 14 [ 0  0 20 43 61 76]\n",
      "Estimated value: 15.134744949656087\n",
      "Confidence interval: [ 14.125297903034925 , 16.14419199627725 ] \n",
      "\n",
      "Initial state k = 15 [11 24 36 51 60 73]\n",
      "Estimated value: 13.80222311996993\n",
      "Confidence interval: [ 12.795849156777656 , 14.808597083162205 ] \n",
      "\n",
      "Initial state k = 16 [ 0  0 14 33 50 67]\n",
      "Estimated value: 12.010052609821656\n",
      "Confidence interval: [ 10.868949834363729 , 13.151155385279583 ] \n",
      "\n",
      "Initial state k = 17 [ 0 11 28 45 55 73]\n",
      "Estimated value: 14.73355239014639\n",
      "Confidence interval: [ 13.715573435898435 , 15.751531344394344 ] \n",
      "\n",
      "Initial state k = 18 [ 0  6 26 40 58 73]\n",
      "Estimated value: 14.633327178402507\n",
      "Confidence interval: [ 13.460670456308003 , 15.80598390049701 ] \n",
      "\n",
      "Initial state k = 19 [ 0  0 10 30 49 74]\n",
      "Estimated value: 14.791854027090542\n",
      "Confidence interval: [ 13.856962581428165 , 15.726745472752919 ] \n",
      "\n",
      "Initial state k = 20 [ 0  0 16 34 53 75]\n",
      "Estimated value: 14.101894019032436\n",
      "Confidence interval: [ 13.057245847076793 , 15.146542190988079 ] \n",
      "\n"
     ]
    }
   ],
   "source": [
    "# Function get_values\n",
    "\n",
    "# Required parameters \n",
    "# K: number of states selected in subset\n",
    "# N: amount of times to run Monte-Carlo method with initial kth initial state\n",
    "# T: amount of time intervals from inital kth state \n",
    "# subset: the subset to get initial states from \n",
    "# disp: True or False, depending on whether you want values to be displayed or not\n",
    "\n",
    "# Returns \n",
    "# est_values: estimated values from Monte Carlo method \n",
    "# epsilons: epsilon values corresponding to the estimated values from the Monte Carlo method \n",
    "\n",
    "\n",
    "def get_values(K, N, T, subset, disp):\n",
    "    Q = 90\n",
    "    L = 7\n",
    "    cp = 1.0\n",
    "    cv = 0.4\n",
    "    cd = 0.1\n",
    "    h = 0.1\n",
    "    b = 0.8\n",
    "    \n",
    "    values = np.array([[]])\n",
    "    est_values = np.array([[]])\n",
    "    epsilons = np.array([[]])\n",
    "    \n",
    "    for k in range(K):\n",
    "    \n",
    "        for n in range(N):\n",
    "            x1 = subset[k][0]\n",
    "            x2 = subset[k][1]\n",
    "            x3 = subset[k][2]\n",
    "            x4 = subset[k][3]\n",
    "            x5 = subset[k][4]\n",
    "            x6 = subset[k][5]\n",
    "            v = 0\n",
    "        \n",
    "            for t in range(T):\n",
    "                D = np.random.poisson(17)\n",
    "                # Discounted value function\n",
    "                revenue = cp*D\n",
    "                order_cost = cv*(Q-x6)\n",
    "                disposal_cost = cd*max(x1-D, 0)\n",
    "\n",
    "                x1 = max(x2 - x1 - max(D - x1,0),0) \n",
    "                x2 = max(x3 - x2 - max(D - x2,0),0) + x1\n",
    "                x3 = max(x4 - x3 - max(D - x3,0),0) + x2\n",
    "                x4 = max(x5 - x4 - max(D - x4,0),0) + x3 \n",
    "                x5 = max(x6 - x5 - max(D - x5,0),0) + x4\n",
    "                x6 = max((Q - x6) - max(D - x6,0),0) + x5\n",
    "            \n",
    "                hold_cost = h*x6\n",
    "                profit = revenue - order_cost - disposal_cost - hold_cost\n",
    "                v = v + (b**t)*profit\n",
    "            \n",
    "            values = np.append(values,v)\n",
    "\n",
    "        value_mean = mean(values)\n",
    "        est_values = np.append(est_values, value_mean)\n",
    "        epsilon = 1.96*np.std(values)/sqrt(N)\n",
    "        epsilons = np.append(epsilons, epsilon)\n",
    "        values =  np.array([[]])\n",
    "        \n",
    "        if disp:\n",
    "            # Display each state, estimated. value, 95% level CI \n",
    "            print('Initial state k =',(k+1), subset20[k])\n",
    "            print('Estimated value:', value_mean)\n",
    "            # CI Interval\n",
    "            print('Confidence interval: [', (value_mean - epsilon), ',', (value_mean + epsilon), '] \\n')\n",
    "\n",
    "    return est_values, epsilons\n",
    "\n",
    "K = 20\n",
    "N = 100\n",
    "T = 100 \n",
    "# Length of episode t = 100\n",
    "# We want to use a T value where we can approximate beta^T = 0 as best and as reasonable as possible.\n",
    "    \n",
    "values = get_values(K, N, T, subset20, True)"
   ]
  },
  {
   "cell_type": "markdown",
   "metadata": {},
   "source": [
    "## Plot the estimated expected profit with its 95% confidence interval for 20 states, 100 time intervals, over 100 episodes"
   ]
  },
  {
   "cell_type": "code",
   "execution_count": 6,
   "metadata": {},
   "outputs": [
    {
     "data": {
      "image/png": "[encoded data removed]",
      "text/plain": [
       "<Figure size 432x288 with 1 Axes>"
      ]
     },
     "metadata": {
      "needs_background": "light"
     },
     "output_type": "display_data"
    }
   ],
   "source": [
    "K = 20\n",
    "N = 100\n",
    "T = 100\n",
    "\n",
    "values = get_values(K, N, T, subset20, False)\n",
    "est_values = values[0]\n",
    "epsilons = values[1]\n",
    "\n",
    "for k in range(20):\n",
    "    plt.errorbar((k+1), est_values[k], yerr = epsilons[k], ecolor = 'red')\n",
    "    plt.plot(k+1, est_values[k], 'bo')"
   ]
  },
  {
   "cell_type": "markdown",
   "metadata": {},
   "source": [
    "## Plot the estimated expected profit with its 95% confidence interval for 20 states, 1000 time intervals, over 1000 episodes"
   ]
  },
  {
   "cell_type": "code",
   "execution_count": 7,
   "metadata": {},
   "outputs": [
    {
     "data": {
      "image/png": "[encoded data removed]",
      "text/plain": [
       "<Figure size 432x288 with 1 Axes>"
      ]
     },
     "metadata": {
      "needs_background": "light"
     },
     "output_type": "display_data"
    }
   ],
   "source": [
    "K = 20\n",
    "N = 1000 \n",
    "T = 1000\n",
    "\n",
    "values20 = get_values(K, N, T, subset20, False)\n",
    "est_values20 = values20[0]\n",
    "epsilons20 = values20[1]\n",
    "\n",
    "for k in range(20):\n",
    "    plt.errorbar((k+1), est_values20[k], yerr = epsilons20[k], ecolor = 'red')\n",
    "    plt.plot(k+1, est_values20[k], 'bo')"
   ]
  },
  {
   "cell_type": "markdown",
   "metadata": {},
   "source": [
    "## Plot the estimated expected profit with its 95% confidence interval for 200 states, 100 time intervals, over 100 episodes"
   ]
  },
  {
   "cell_type": "code",
   "execution_count": 8,
   "metadata": {},
   "outputs": [
    {
     "data": {
      "image/png": "[encoded data removed]",
      "text/plain": [
       "<Figure size 432x288 with 1 Axes>"
      ]
     },
     "metadata": {
      "needs_background": "light"
     },
     "output_type": "display_data"
    }
   ],
   "source": [
    "K = 200\n",
    "N = 100\n",
    "T = 100\n",
    "\n",
    "values = get_values(K, N, T, subset200, False)\n",
    "est_values = values[0]\n",
    "epsilons = values[1]\n",
    "\n",
    "for k in range(K):\n",
    "    plt.errorbar((k+1), est_values[k], yerr = epsilons[k], ecolor = 'red')\n",
    "    plt.plot(k+1, est_values[k], 'bo')"
   ]
  },
  {
   "cell_type": "markdown",
   "metadata": {},
   "source": [
    "## Plot the estimated expected profit with its 95% confidence interval for 200 states, 1000 time intervals, over 1000 episodes"
   ]
  },
  {
   "cell_type": "code",
   "execution_count": 9,
   "metadata": {},
   "outputs": [
    {
     "data": {
      "image/png": "[encoded data removed]",
      "text/plain": [
       "<Figure size 432x288 with 1 Axes>"
      ]
     },
     "metadata": {
      "needs_background": "light"
     },
     "output_type": "display_data"
    }
   ],
   "source": [
    "K = 200\n",
    "N = 1000\n",
    "T = 100\n",
    "\n",
    "values200 = get_values(K, N, T, subset200, False)\n",
    "est_values200 = values200[0]\n",
    "epsilons200 = values200[1]\n",
    "\n",
    "for k in range(K):\n",
    "    plt.errorbar((k+1), est_values200[k], yerr = epsilons200[k], ecolor = 'red')\n",
    "    plt.plot(k+1, est_values200[k], 'bo')"
   ]
  },
  {
   "cell_type": "markdown",
   "metadata": {},
   "source": [
    "## Set Up Neural Network"
   ]
  },
  {
   "cell_type": "code",
   "execution_count": 10,
   "metadata": {},
   "outputs": [],
   "source": [
    "class MyNeuralNetwork:\n",
    "    def __init__ (self, input_dimension):\n",
    "        self.model = Sequential()\n",
    "        self.model.add(Dense(5, input_dim = input_dimension, activation = 'relu'))\n",
    "        self.model.add(Dense(5, activation = 'relu'))\n",
    "        self.model.add(Dense(1, activation = 'linear'))\n",
    "        self.model.compile(loss = 'mean_squared_error', optimizer = 'adam')"
   ]
  },
  {
   "cell_type": "markdown",
   "metadata": {},
   "source": [
    "## Extract the Dataset"
   ]
  },
  {
   "cell_type": "code",
   "execution_count": 11,
   "metadata": {},
   "outputs": [],
   "source": [
    "N = 1000\n",
    "t = 100\n",
    "x_train = subset200\n",
    "x_test = [[10,20,30,40,50,80]]\n",
    "y_train = est_values200\n",
    "\n",
    "y_values =  get_values(1, N, t, x_test, False)\n",
    "y_test = y_values[0]\n",
    "y_epsilons = y_values[1]"
   ]
  },
  {
   "cell_type": "markdown",
   "metadata": {},
   "source": [
    "## Normalize Dataset Using Scalar"
   ]
  },
  {
   "cell_type": "code",
   "execution_count": 12,
   "metadata": {},
   "outputs": [],
   "source": [
    "class Scaler:\n",
    "    def __init__ (self, x, y):\n",
    "        self.x_mean = np.mean(x, axis = 0)\n",
    "        self.y_mean = np.mean(y)\n",
    "        self.x_std = np.std(x, axis = 0)\n",
    "        self.y_std = np.std(y)\n",
    "    \n",
    "    def get_x (self):\n",
    "        return self.x_std, self.x_mean\n",
    "    \n",
    "    def get_y (self):\n",
    "        return self.y_std, self.y_mean"
   ]
  },
  {
   "cell_type": "code",
   "execution_count": 13,
   "metadata": {},
   "outputs": [],
   "source": [
    "normalizer = Scaler(x_train, y_train)\n",
    "std_x, mean_x = normalizer.get_x()\n",
    "x_train_norm = (x_train - mean_x)/(std_x)\n",
    "x_test_norm = (x_test - mean_x)/(std_x)\n",
    "std_y, mean_y = normalizer.get_y()\n",
    "y_train_norm = (y_train - mean_y)/(std_y)"
   ]
  },
  {
   "cell_type": "markdown",
   "metadata": {},
   "source": [
    "## Train the Dataset Using Neural Network Model "
   ]
  },
  {
   "cell_type": "code",
   "execution_count": 14,
   "metadata": {},
   "outputs": [
    {
     "name": "stdout",
     "output_type": "stream",
     "text": [
      "Epoch 1/100\n",
      "200/200 [==============================] - 1s 3ms/step - loss: 0.7944\n",
      "Epoch 2/100\n",
      "200/200 [==============================] - 0s 161us/step - loss: 0.7538\n",
      "Epoch 3/100\n",
      "200/200 [==============================] - 0s 150us/step - loss: 0.7204\n",
      "Epoch 4/100\n",
      "200/200 [==============================] - 0s 153us/step - loss: 0.6895\n",
      "Epoch 5/100\n",
      "200/200 [==============================] - 0s 163us/step - loss: 0.6581\n",
      "Epoch 6/100\n",
      "200/200 [==============================] - 0s 163us/step - loss: 0.6287\n",
      "Epoch 7/100\n",
      "200/200 [==============================] - 0s 166us/step - loss: 0.5913\n",
      "Epoch 8/100\n",
      "200/200 [==============================] - 0s 169us/step - loss: 0.5537\n",
      "Epoch 9/100\n",
      "200/200 [==============================] - 0s 163us/step - loss: 0.5127\n",
      "Epoch 10/100\n",
      "200/200 [==============================] - 0s 171us/step - loss: 0.4667\n",
      "Epoch 11/100\n",
      "200/200 [==============================] - 0s 163us/step - loss: 0.3963\n",
      "Epoch 12/100\n",
      "200/200 [==============================] - 0s 165us/step - loss: 0.2988\n",
      "Epoch 13/100\n",
      "200/200 [==============================] - 0s 168us/step - loss: 0.2435\n",
      "Epoch 14/100\n",
      "200/200 [==============================] - 0s 167us/step - loss: 0.2123\n",
      "Epoch 15/100\n",
      "200/200 [==============================] - 0s 169us/step - loss: 0.1928\n",
      "Epoch 16/100\n",
      "200/200 [==============================] - 0s 168us/step - loss: 0.1788\n",
      "Epoch 17/100\n",
      "200/200 [==============================] - 0s 169us/step - loss: 0.1654\n",
      "Epoch 18/100\n",
      "200/200 [==============================] - 0s 171us/step - loss: 0.1525\n",
      "Epoch 19/100\n",
      "200/200 [==============================] - 0s 176us/step - loss: 0.1423\n",
      "Epoch 20/100\n",
      "200/200 [==============================] - 0s 169us/step - loss: 0.1322\n",
      "Epoch 21/100\n",
      "200/200 [==============================] - 0s 187us/step - loss: 0.1218\n",
      "Epoch 22/100\n",
      "200/200 [==============================] - 0s 162us/step - loss: 0.1133\n",
      "Epoch 23/100\n",
      "200/200 [==============================] - 0s 177us/step - loss: 0.1062\n",
      "Epoch 24/100\n",
      "200/200 [==============================] - 0s 168us/step - loss: 0.0999\n",
      "Epoch 25/100\n",
      "200/200 [==============================] - 0s 164us/step - loss: 0.0925\n",
      "Epoch 26/100\n",
      "200/200 [==============================] - 0s 172us/step - loss: 0.0868\n",
      "Epoch 27/100\n",
      "200/200 [==============================] - 0s 171us/step - loss: 0.0814\n",
      "Epoch 28/100\n",
      "200/200 [==============================] - 0s 163us/step - loss: 0.0759\n",
      "Epoch 29/100\n",
      "200/200 [==============================] - 0s 164us/step - loss: 0.0703\n",
      "Epoch 30/100\n",
      "200/200 [==============================] - 0s 188us/step - loss: 0.0659\n",
      "Epoch 31/100\n",
      "200/200 [==============================] - 0s 203us/step - loss: 0.0612\n",
      "Epoch 32/100\n",
      "200/200 [==============================] - 0s 169us/step - loss: 0.0574\n",
      "Epoch 33/100\n",
      "200/200 [==============================] - 0s 181us/step - loss: 0.0541\n",
      "Epoch 34/100\n",
      "200/200 [==============================] - 0s 174us/step - loss: 0.0507\n",
      "Epoch 35/100\n",
      "200/200 [==============================] - 0s 169us/step - loss: 0.0479\n",
      "Epoch 36/100\n",
      "200/200 [==============================] - 0s 163us/step - loss: 0.0455\n",
      "Epoch 37/100\n",
      "200/200 [==============================] - 0s 165us/step - loss: 0.0431\n",
      "Epoch 38/100\n",
      "200/200 [==============================] - 0s 167us/step - loss: 0.0411\n",
      "Epoch 39/100\n",
      "200/200 [==============================] - 0s 163us/step - loss: 0.0389\n",
      "Epoch 40/100\n",
      "200/200 [==============================] - 0s 166us/step - loss: 0.0375\n",
      "Epoch 41/100\n",
      "200/200 [==============================] - 0s 170us/step - loss: 0.0359\n",
      "Epoch 42/100\n",
      "200/200 [==============================] - 0s 175us/step - loss: 0.0345\n",
      "Epoch 43/100\n",
      "200/200 [==============================] - 0s 167us/step - loss: 0.0334\n",
      "Epoch 44/100\n",
      "200/200 [==============================] - 0s 174us/step - loss: 0.0323\n",
      "Epoch 45/100\n",
      "200/200 [==============================] - 0s 169us/step - loss: 0.0313\n",
      "Epoch 46/100\n",
      "200/200 [==============================] - 0s 171us/step - loss: 0.0305\n",
      "Epoch 47/100\n",
      "200/200 [==============================] - 0s 167us/step - loss: 0.0297\n",
      "Epoch 48/100\n",
      "200/200 [==============================] - 0s 173us/step - loss: 0.0289\n",
      "Epoch 49/100\n",
      "200/200 [==============================] - 0s 160us/step - loss: 0.0281\n",
      "Epoch 50/100\n",
      "200/200 [==============================] - 0s 169us/step - loss: 0.0275\n",
      "Epoch 51/100\n",
      "200/200 [==============================] - 0s 163us/step - loss: 0.0269\n",
      "Epoch 52/100\n",
      "200/200 [==============================] - 0s 166us/step - loss: 0.0264\n",
      "Epoch 53/100\n",
      "200/200 [==============================] - 0s 172us/step - loss: 0.0258\n",
      "Epoch 54/100\n",
      "200/200 [==============================] - 0s 165us/step - loss: 0.0254\n",
      "Epoch 55/100\n",
      "200/200 [==============================] - 0s 163us/step - loss: 0.0250\n",
      "Epoch 56/100\n",
      "200/200 [==============================] - 0s 165us/step - loss: 0.0244\n",
      "Epoch 57/100\n",
      "200/200 [==============================] - 0s 166us/step - loss: 0.0240\n",
      "Epoch 58/100\n",
      "200/200 [==============================] - 0s 165us/step - loss: 0.0237\n",
      "Epoch 59/100\n",
      "200/200 [==============================] - 0s 171us/step - loss: 0.0233\n",
      "Epoch 60/100\n",
      "200/200 [==============================] - 0s 165us/step - loss: 0.0230\n",
      "Epoch 61/100\n",
      "200/200 [==============================] - 0s 184us/step - loss: 0.0227\n",
      "Epoch 62/100\n",
      "200/200 [==============================] - 0s 172us/step - loss: 0.0225\n",
      "Epoch 63/100\n",
      "200/200 [==============================] - 0s 163us/step - loss: 0.0222\n",
      "Epoch 64/100\n",
      "200/200 [==============================] - 0s 173us/step - loss: 0.0217\n",
      "Epoch 65/100\n",
      "200/200 [==============================] - 0s 162us/step - loss: 0.0213\n",
      "Epoch 66/100\n",
      "200/200 [==============================] - 0s 172us/step - loss: 0.0209\n",
      "Epoch 67/100\n",
      "200/200 [==============================] - 0s 167us/step - loss: 0.0208\n",
      "Epoch 68/100\n",
      "200/200 [==============================] - 0s 167us/step - loss: 0.0204\n",
      "Epoch 69/100\n",
      "200/200 [==============================] - 0s 164us/step - loss: 0.0203\n",
      "Epoch 70/100\n",
      "200/200 [==============================] - 0s 167us/step - loss: 0.0198\n",
      "Epoch 71/100\n",
      "200/200 [==============================] - 0s 166us/step - loss: 0.0195\n",
      "Epoch 72/100\n",
      "200/200 [==============================] - 0s 167us/step - loss: 0.0193\n",
      "Epoch 73/100\n",
      "200/200 [==============================] - 0s 165us/step - loss: 0.0192\n",
      "Epoch 74/100\n",
      "200/200 [==============================] - 0s 173us/step - loss: 0.0194\n",
      "Epoch 75/100\n",
      "200/200 [==============================] - 0s 168us/step - loss: 0.0189\n",
      "Epoch 76/100\n",
      "200/200 [==============================] - 0s 166us/step - loss: 0.0184\n",
      "Epoch 77/100\n",
      "200/200 [==============================] - 0s 163us/step - loss: 0.0183\n",
      "Epoch 78/100\n",
      "200/200 [==============================] - 0s 162us/step - loss: 0.0179\n",
      "Epoch 79/100\n",
      "200/200 [==============================] - 0s 171us/step - loss: 0.0176\n",
      "Epoch 80/100\n",
      "200/200 [==============================] - 0s 170us/step - loss: 0.0174\n",
      "Epoch 81/100\n",
      "200/200 [==============================] - 0s 171us/step - loss: 0.0176\n",
      "Epoch 82/100\n",
      "200/200 [==============================] - 0s 165us/step - loss: 0.0172\n",
      "Epoch 83/100\n",
      "200/200 [==============================] - 0s 163us/step - loss: 0.0167\n",
      "Epoch 84/100\n",
      "200/200 [==============================] - 0s 200us/step - loss: 0.0170\n",
      "Epoch 85/100\n",
      "200/200 [==============================] - 0s 219us/step - loss: 0.0166\n",
      "Epoch 86/100\n",
      "200/200 [==============================] - 0s 217us/step - loss: 0.0161\n",
      "Epoch 87/100\n",
      "200/200 [==============================] - 0s 215us/step - loss: 0.0160\n",
      "Epoch 88/100\n",
      "200/200 [==============================] - 0s 182us/step - loss: 0.0158\n",
      "Epoch 89/100\n",
      "200/200 [==============================] - 0s 172us/step - loss: 0.0155\n",
      "Epoch 90/100\n",
      "200/200 [==============================] - 0s 170us/step - loss: 0.0155\n",
      "Epoch 91/100\n",
      "200/200 [==============================] - 0s 167us/step - loss: 0.0154\n",
      "Epoch 92/100\n",
      "200/200 [==============================] - 0s 165us/step - loss: 0.0150\n",
      "Epoch 93/100\n",
      "200/200 [==============================] - 0s 167us/step - loss: 0.0148\n",
      "Epoch 94/100\n",
      "200/200 [==============================] - 0s 165us/step - loss: 0.0147\n",
      "Epoch 95/100\n",
      "200/200 [==============================] - 0s 174us/step - loss: 0.0144\n",
      "Epoch 96/100\n",
      "200/200 [==============================] - 0s 167us/step - loss: 0.0143\n",
      "Epoch 97/100\n",
      "200/200 [==============================] - 0s 168us/step - loss: 0.0143\n",
      "Epoch 98/100\n",
      "200/200 [==============================] - 0s 163us/step - loss: 0.0141\n",
      "Epoch 99/100\n",
      "200/200 [==============================] - 0s 164us/step - loss: 0.0136\n",
      "Epoch 100/100\n",
      "200/200 [==============================] - 0s 177us/step - loss: 0.0136\n"
     ]
    },
    {
     "data": {
      "text/plain": [
       "<keras.callbacks.callbacks.History at 0x7fa0df4adef0>"
      ]
     },
     "execution_count": 14,
     "metadata": {},
     "output_type": "execute_result"
    }
   ],
   "source": [
    "neural_network = MyNeuralNetwork(input_dimension = 6)\n",
    "neural_network.model.fit(x_train_norm, y_train_norm, epochs = 100, batch_size = 8)"
   ]
  },
  {
   "cell_type": "markdown",
   "metadata": {},
   "source": [
    "## Identify whether the predicted value (v_tilda) falls within the 95% confidence interval of the value calculated with the Monte Carlo simulation (v_hat)"
   ]
  },
  {
   "cell_type": "code",
   "execution_count": 15,
   "metadata": {
    "scrolled": true
   },
   "outputs": [
    {
     "name": "stdout",
     "output_type": "stream",
     "text": [
      "V_tilda: 17.026716\n",
      "V_hat: 16.986212850714637\n",
      "Confidence Interval of v_hat: [16.645323981782653, 17.32710171964662]\n"
     ]
    }
   ],
   "source": [
    "# Finding v_hat\n",
    "v_hat = y_test[0]\n",
    "# Predicting v_tilda\n",
    "v_tilda =  (neural_network.model.predict(x_test_norm)* std_y + mean_y)[0][0]\n",
    "# 95% CI for v_hat\n",
    "CI = [v_hat - y_epsilons[0], v_hat +  y_epsilons[0]]\n",
    "\n",
    "print('V_tilda:', v_tilda)\n",
    "print('V_hat:', v_hat)\n",
    "print('Confidence Interval of v_hat:', CI)"
   ]
  },
  {
   "cell_type": "markdown",
   "metadata": {},
   "source": [
    "## Plot the predicted values (v_tilda) against the simulated values (v_hat) using 50 states, 50,000 time intervals, 1000 episodes"
   ]
  },
  {
   "cell_type": "code",
   "execution_count": 16,
   "metadata": {},
   "outputs": [
    {
     "name": "stdout",
     "output_type": "stream",
     "text": [
      "Red: v_hat, Blue: v_tilda\n"
     ]
    },
    {
     "data": {
      "image/png": "[encoded data removed]",
      "text/plain": [
       "<Figure size 432x288 with 1 Axes>"
      ]
     },
     "metadata": {
      "needs_background": "light"
     },
     "output_type": "display_data"
    }
   ],
   "source": [
    "K = 50\n",
    "T = 50000\n",
    "N = 1000\n",
    "t = 100\n",
    "\n",
    "# Generating the testing datasets \n",
    "x_test = state_subset(K, T, 10, 20, 30, 40, 50, 80)\n",
    "y_test = get_values(K, N, t, x_test, False)[0]\n",
    "\n",
    "# Normalizing dataset using Scalar \n",
    "x_test_norm = (x_test - mean_x)/(std_x)\n",
    "\n",
    "y_from_nn_norm = neural_network.model.predict(x_test_norm)\n",
    "# Normalizing result and predicting v_hat (y_from_nn)\n",
    "y_from_nn = y_from_nn_norm * std_y + mean_y\n",
    "\n",
    "x_axis = list(range(1,K+1))\n",
    "\n",
    "\n",
    "plt.plot(x_axis, y_test, color='red', label='v_hat')\n",
    "plt.plot(x_axis, y_from_nn, color='blue', label = 'v_tilda')\n",
    "print('Red: v_hat, Blue: v_tilda')\n"
   ]
  },
  {
   "cell_type": "markdown",
   "metadata": {},
   "source": [
    "## Report the MSE for 20 vs 200 states and plot the predicted values (v_tilda) against the simulated values (v_hat)"
   ]
  },
  {
   "cell_type": "code",
   "execution_count": 17,
   "metadata": {},
   "outputs": [
    {
     "name": "stdout",
     "output_type": "stream",
     "text": [
      "Mean squared error for K = 20: 0.025086747157849976\n",
      "Mean squared error for K = 200: 0.03371186316066718\n",
      "\n",
      " Just for personal interest\n",
      "For K = 20: Red = vhat, Blue = vtilda\n",
      "For K = 200: Orange = vhat, Green = vtilda\n"
     ]
    },
    {
     "data": {
      "text/plain": [
       "[<matplotlib.lines.Line2D at 0x7fa0db5b1550>]"
      ]
     },
     "execution_count": 17,
     "metadata": {},
     "output_type": "execute_result"
    },
    {
     "data": {
      "image/png": "[encoded data removed]",
      "text/plain": [
       "<Figure size 432x288 with 2 Axes>"
      ]
     },
     "metadata": {
      "needs_background": "light"
     },
     "output_type": "display_data"
    }
   ],
   "source": [
    "# Generating dataset for K = 20 \n",
    "x_test20 = subset20 \n",
    "y_test20 = est_values20\n",
    "\n",
    "# Normalizing dataset\n",
    "x_test_norm20 = (x_test20 - mean_x)/(std_x)\n",
    "\n",
    "y_from_nn_norm20 = neural_network.model.predict(x_test_norm20)\n",
    "# Normalizing result and predicting v_tilda (y_from_nn)\n",
    "y_from_nn20 = y_from_nn_norm20 * std_y + mean_y\n",
    "\n",
    "mse = mean_squared_error(y_test20, y_from_nn20)\n",
    "print('Mean squared error for K = 20:', mse)\n",
    "\n",
    "# Generating dataset for K = 200 \n",
    "x_test200 = subset200 \n",
    "y_test200 = est_values200\n",
    "\n",
    "# Normalizing dataset\n",
    "x_test_norm200 = (x_test200 - mean_x)/(std_x)\n",
    "\n",
    "y_from_nn_norm200 = neural_network.model.predict(x_test_norm200)\n",
    "# Normalizing result and predicting v_tilda (y_from_nn)\n",
    "y_from_nn200 = y_from_nn_norm200 * std_y + mean_y\n",
    "\n",
    "mse = mean_squared_error(y_test200, y_from_nn200)\n",
    "print('Mean squared error for K = 200:', mse)\n",
    "\n",
    "print('\\n Just for personal interest')\n",
    "print('For K = 20: Red = vhat, Blue = vtilda')\n",
    "print('For K = 200: Orange = vhat, Green = vtilda')\n",
    "\n",
    "fig, axs = plt.subplots(2)\n",
    "fig.suptitle('K = 20 and K = 200, Vhat and VTilda')\n",
    "axs[0].plot(list(range(1,20+1)), y_test20, color='red', label='v_hat20')\n",
    "axs[0].plot(list(range(1,20+1)), y_from_nn20, color='blue', label = 'v_tilda20')\n",
    "axs[1].plot(list(range(1,200+1)), y_test200, color='orange', label='v_hat200')\n",
    "axs[1].plot(list(range(1,200+1)), y_from_nn200, color='green', label = 'v_tilda200')\n"
   ]
  }
 ],
 "metadata": {
  "kernelspec": {
   "display_name": "Python 3",
   "language": "python",
   "name": "python3"
  },
  "language_info": {
   "codemirror_mode": {
    "name": "ipython",
    "version": 3
   },
   "file_extension": ".py",
   "mimetype": "text/x-python",
   "name": "python",
   "nbconvert_exporter": "python",
   "pygments_lexer": "ipython3",
   "version": "3.8.5"
  }
 },
 "nbformat": 4,
 "nbformat_minor": 5
}
